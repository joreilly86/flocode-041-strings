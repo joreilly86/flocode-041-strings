{
 "cells": [
  {
   "cell_type": "markdown",
   "metadata": {},
   "source": [
    "# Flocode Newsletter #041 - Python Essentials: Strings\n",
    "\n",
    "This repository supports Flocode Newsletter #041, focusing on Python's string data type and its applications in engineering contexts.\n",
    "\n",
    "## Documenting Calculations"
   ]
  },
  {
   "cell_type": "code",
   "execution_count": 24,
   "metadata": {},
   "outputs": [
    {
     "name": "stdout",
     "output_type": "stream",
     "text": [
      "Beam Calculation Report\n",
      "\n",
      "Beam Name: B1\n",
      "Dimensions:\n",
      "  Length:    5.0 m\n",
      "  Width:     0.3 m\n",
      "  Height:    0.4 m\n",
      "Material: Concrete\n",
      "\n"
     ]
    }
   ],
   "source": [
    "def generate_beam_report(beam_name, length, width, height, material):\n",
    "    return f\"\"\"Beam Calculation Report\n",
    "\n",
    "Beam Name: {beam_name}\n",
    "Dimensions:\n",
    "  Length: {length:6.1f} m\n",
    "  Width:  {width:6.1f} m\n",
    "  Height: {height:6.1f} m\n",
    "Material: {material}\n",
    "\"\"\"\n",
    "\n",
    "# Usage\n",
    "beam_report = generate_beam_report(\"B1\", 5.0, 0.3, 0.4, \"Concrete\")\n",
    "print(beam_report)"
   ]
  },
  {
   "cell_type": "markdown",
   "metadata": {},
   "source": [
    "## Example: Documenting Python scripts for engineering projects"
   ]
  },
  {
   "cell_type": "code",
   "execution_count": 25,
   "metadata": {},
   "outputs": [
    {
     "name": "stdout",
     "output_type": "stream",
     "text": [
      "Maximum deflection: 0.00407 m\n"
     ]
    }
   ],
   "source": [
    "def calculate_beam_deflection(length, load, modulus, moment_of_inertia):\n",
    "    \"\"\"\n",
    "    Calculate the maximum deflection of a simply supported beam.\n",
    "\n",
    "    Parameters:\n",
    "    - length (float): The length of the beam in meters.\n",
    "    - load (float): The uniformly distributed load on the beam in N/m.\n",
    "    - modulus (float): The modulus of elasticity of the beam material in Pa.\n",
    "    - moment_of_inertia (float): The moment of inertia of the beam cross-section in m^4.\n",
    "\n",
    "    Returns:\n",
    "    - deflection (float): The maximum deflection of the beam in meters.\n",
    "    \"\"\"\n",
    "    deflection = (5 * load * length**4) / (384 * modulus * moment_of_inertia)\n",
    "    return deflection\n",
    "\n",
    "# Usage\n",
    "beam_length = 5.0\n",
    "beam_load = 10000\n",
    "beam_modulus = 2e11\n",
    "beam_moi = 1e-4\n",
    "\n",
    "max_deflection = calculate_beam_deflection(beam_length, beam_load, beam_modulus, beam_moi)\n",
    "print(f\"Maximum deflection: {max_deflection:.5f} m\")"
   ]
  },
  {
   "cell_type": "markdown",
   "metadata": {},
   "source": [
    "## Combining Strings with Data Analysis Libraries"
   ]
  },
  {
   "cell_type": "code",
   "execution_count": 26,
   "metadata": {},
   "outputs": [
    {
     "name": "stdout",
     "output_type": "stream",
     "text": [
      "     Bridge Name  Span  Width  Height  Material\n",
      "0    Golden Gate  1280     27     227     Steel\n",
      "1       Brooklyn  1595     26      84     Steel\n",
      "2         London   283     32      13  Concrete\n",
      "3  Sydney Harbor   503     49     134     Steel\n",
      "4          Forth   521     37     110     Steel\n"
     ]
    }
   ],
   "source": [
    "import pandas as pd\n",
    "import numpy as np\n",
    "\n",
    "def clean_dataset(df):\n",
    "    # Remove leading/trailing whitespace from column names\n",
    "    df.columns = df.columns.str.strip()\n",
    "\n",
    "    # Convert all numeric columns to appropriate type\n",
    "    numeric_columns = ['Span', 'Width', 'Height']\n",
    "    df[numeric_columns] = df[numeric_columns].apply(pd.to_numeric, errors='coerce')\n",
    "\n",
    "    # Format 'Material' column to capitalize all words\n",
    "    df['Material'] = df['Material'].str.title()\n",
    "\n",
    "    # Strip whitespace from string columns\n",
    "    string_columns = ['Bridge Name', 'Material']\n",
    "    df[string_columns] = df[string_columns].apply(lambda x: x.str.strip())\n",
    "\n",
    "    # Remove rows with missing values\n",
    "    df.dropna(inplace=True)\n",
    "\n",
    "    return df\n",
    "\n",
    "# Create synthetic data\n",
    "data = {\n",
    "    'Bridge Name': ['Golden Gate ', ' Brooklyn', ' London', ' Sydney Harbor', 'Forth '],\n",
    "    'Span': [1280, 1595, 283, 503, 521],\n",
    "    'Width': [27, 26, 32, 49, 37],\n",
    "    'Height': ['227', '84', '13', '134', '110'],\n",
    "    'Material': ['Steel', 'steel', 'concrete', 'STEEL', 'steel']\n",
    "}\n",
    "\n",
    "# Convert to DataFrame\n",
    "df = pd.DataFrame(data)\n",
    "\n",
    "# Clean the dataset\n",
    "cleaned_data = clean_dataset(df)\n",
    "\n",
    "# Print the cleaned data\n",
    "print(cleaned_data)"
   ]
  },
  {
   "cell_type": "markdown",
   "metadata": {},
   "source": [
    "## Case Study: Automating Report Generation\n",
    "\n",
    "### Report Generation using 'fpdf' and 'matplotlib'\n",
    "\n",
    "#### How this Script Works\n",
    "\n",
    "1. **Custom PDF Class**\n",
    "   - Inherits from FPDF\n",
    "   - Adds a simple header and footer to each page\n",
    "\n",
    "2. **Report Generation Function**\n",
    "   - Takes project details as parameters\n",
    "   - Generates the report content:\n",
    "     - Adds project details and building specifications as text\n",
    "     - Creates a bar chart using Matplotlib to visualize building specifications\n",
    "     - Embeds the chart in the PDF\n",
    "\n",
    "3. **Chart Handling**\n",
    "   - Saves the generated chart as an image file\n",
    "   - Embeds the image in the PDF\n",
    "\n",
    "4. **Output**\n",
    "   - Saves the complete report as 'structural_report.pdf'\n",
    "\n",
    "## Usage\n",
    "\n",
    "1. Ensure `fpdf` and `matplotlib` are installed\n",
    "2. Run the script\n",
    "3. A PDF report will be generated with the specified structural data and visualizations"
   ]
  },
  {
   "cell_type": "code",
   "execution_count": 27,
   "metadata": {},
   "outputs": [],
   "source": [
    "from fpdf import FPDF\n",
    "import matplotlib.pyplot as plt\n",
    "\n",
    "class PDF(FPDF):\n",
    "    def header(self):\n",
    "        self.set_font('Arial', 'B', 12)\n",
    "        self.cell(0, 10, 'Flocode | Example Structural Analysis Report', 0, 1, 'C')\n",
    "    \n",
    "    def footer(self):\n",
    "        self.set_y(-15)\n",
    "        self.set_font('Arial', 'I', 8)\n",
    "        self.cell(0, 10, f'Page {self.page_no()} - Flocode Sample Report', 0, 0, 'C')\n",
    "\n",
    "def create_structural_report(project_name, num_floors, floor_height, beam_spacing, column_spacing):\n",
    "    pdf = PDF()\n",
    "    pdf.add_page()\n",
    "    \n",
    "    # Project Details\n",
    "    pdf.set_font('Arial', 'B', 14)\n",
    "    pdf.cell(0, 10, 'Project Details', 0, 1)\n",
    "    pdf.set_font('Arial', '', 12)\n",
    "    pdf.cell(0, 10, f'Project Name: {project_name}', 0, 1)\n",
    "    \n",
    "    # Building Specifications\n",
    "    pdf.set_font('Arial', 'B', 14)\n",
    "    pdf.cell(0, 10, 'Building Specifications', 0, 1)\n",
    "    pdf.set_font('Arial', '', 12)\n",
    "    specs = [\n",
    "        f'Number of Floors: {num_floors}',\n",
    "        f'Floor Height: {floor_height} m',\n",
    "        f'Beam Spacing: {beam_spacing} m',\n",
    "        f'Column Spacing: {column_spacing} m',\n",
    "        f'Total Height: {num_floors * floor_height} m'\n",
    "    ]\n",
    "    for spec in specs:\n",
    "        pdf.cell(0, 10, spec, 0, 1)\n",
    "    \n",
    "    # Create a simple plot\n",
    "    plt.figure(figsize=(8, 4))\n",
    "    plt.bar(['Floors', 'Floor Height', 'Beam Spacing', 'Column Spacing'], \n",
    "            [num_floors, floor_height, beam_spacing, column_spacing])\n",
    "    plt.title('Building Specifications')\n",
    "    plt.savefig('building_specs.png')\n",
    "    plt.close()\n",
    "    \n",
    "    # Add plot to PDF\n",
    "    pdf.image('building_specs.png', x=10, w=190)\n",
    "    \n",
    "    pdf.output('structural_report.pdf')\n",
    "\n",
    "# Usage\n",
    "create_structural_report(\"Flocode Example Tower\", 10, 3.5, 5, 6)"
   ]
  }
 ],
 "metadata": {
  "kernelspec": {
   "display_name": ".venv",
   "language": "python",
   "name": "python3"
  },
  "language_info": {
   "codemirror_mode": {
    "name": "ipython",
    "version": 3
   },
   "file_extension": ".py",
   "mimetype": "text/x-python",
   "name": "python",
   "nbconvert_exporter": "python",
   "pygments_lexer": "ipython3",
   "version": "3.12.5"
  }
 },
 "nbformat": 4,
 "nbformat_minor": 2
}
